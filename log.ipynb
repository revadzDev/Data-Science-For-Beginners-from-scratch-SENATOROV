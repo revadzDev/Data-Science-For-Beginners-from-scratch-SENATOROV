{
 "cells": [
  {
   "cell_type": "code",
   "execution_count": null,
   "metadata": {},
   "outputs": [],
   "source": [
    "\"\"\"Intro.\"\"\""
   ]
  },
  {
   "cell_type": "markdown",
   "metadata": {},
   "source": [
    "05/03/25\n",
    "\n",
    "1. Зарегистрировался на всех площадках\n",
    "2. Установил Cursor, все плагины, настроил подключение Cursor к WSL\n",
    "3. Установил Conda на WSL, создал виртуальное окружение\n",
    "4. Создал Джамборд для учебы\n",
    "5. Поставил звезду репозиторию, подписался на команду, сделал fork репозитория"
   ]
  }
 ],
 "metadata": {
  "language_info": {
   "name": "python"
  }
 },
 "nbformat": 4,
 "nbformat_minor": 2
}
